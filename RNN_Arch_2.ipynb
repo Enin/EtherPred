{
 "cells": [
  {
   "cell_type": "code",
   "execution_count": 1,
   "metadata": {},
   "outputs": [
    {
     "name": "stderr",
     "output_type": "stream",
     "text": [
      "Using TensorFlow backend.\n"
     ]
    }
   ],
   "source": [
    "import pandas as pd\n",
    "import numpy as np\n",
    "import matplotlib.pyplot as plt\n",
    "from keras.models import Sequential\n",
    "from keras.layers import LSTM, Dropout, Dense, Activation\n",
    "from keras.callbacks import TensorBoard, ModelCheckpoint, ReduceLROnPlateau\n",
    "from keras.models import load_model\n",
    "\n",
    "import datetime\n",
    "import os"
   ]
  },
  {
   "cell_type": "code",
   "execution_count": 2,
   "metadata": {},
   "outputs": [
    {
     "data": {
      "text/html": [
       "<div>\n",
       "<style scoped>\n",
       "    .dataframe tbody tr th:only-of-type {\n",
       "        vertical-align: middle;\n",
       "    }\n",
       "\n",
       "    .dataframe tbody tr th {\n",
       "        vertical-align: top;\n",
       "    }\n",
       "\n",
       "    .dataframe thead th {\n",
       "        text-align: right;\n",
       "    }\n",
       "</style>\n",
       "<table border=\"1\" class=\"dataframe\">\n",
       "  <thead>\n",
       "    <tr style=\"text-align: right;\">\n",
       "      <th></th>\n",
       "      <th>Open*</th>\n",
       "      <th>High</th>\n",
       "      <th>Low</th>\n",
       "      <th>Close**</th>\n",
       "      <th>Volume</th>\n",
       "      <th>Market Cap</th>\n",
       "    </tr>\n",
       "    <tr>\n",
       "      <th>Date</th>\n",
       "      <th></th>\n",
       "      <th></th>\n",
       "      <th></th>\n",
       "      <th></th>\n",
       "      <th></th>\n",
       "      <th></th>\n",
       "    </tr>\n",
       "  </thead>\n",
       "  <tbody>\n",
       "    <tr>\n",
       "      <th>2019-08-13</th>\n",
       "      <td>211.34</td>\n",
       "      <td>211.38</td>\n",
       "      <td>205.42</td>\n",
       "      <td>208.71</td>\n",
       "      <td>5946313205</td>\n",
       "      <td>2.239653e+10</td>\n",
       "    </tr>\n",
       "    <tr>\n",
       "      <th>2019-08-12</th>\n",
       "      <td>216.06</td>\n",
       "      <td>216.14</td>\n",
       "      <td>210.95</td>\n",
       "      <td>211.29</td>\n",
       "      <td>5674315559</td>\n",
       "      <td>2.267042e+10</td>\n",
       "    </tr>\n",
       "    <tr>\n",
       "      <th>2019-08-11</th>\n",
       "      <td>206.73</td>\n",
       "      <td>216.60</td>\n",
       "      <td>206.51</td>\n",
       "      <td>216.09</td>\n",
       "      <td>6440605605</td>\n",
       "      <td>2.318300e+10</td>\n",
       "    </tr>\n",
       "    <tr>\n",
       "      <th>2019-08-10</th>\n",
       "      <td>210.53</td>\n",
       "      <td>213.73</td>\n",
       "      <td>203.79</td>\n",
       "      <td>206.73</td>\n",
       "      <td>6584748527</td>\n",
       "      <td>2.217611e+10</td>\n",
       "    </tr>\n",
       "    <tr>\n",
       "      <th>2019-08-09</th>\n",
       "      <td>220.91</td>\n",
       "      <td>221.36</td>\n",
       "      <td>208.25</td>\n",
       "      <td>210.49</td>\n",
       "      <td>6964818795</td>\n",
       "      <td>2.257606e+10</td>\n",
       "    </tr>\n",
       "  </tbody>\n",
       "</table>\n",
       "</div>"
      ],
      "text/plain": [
       "             Open*    High     Low  Close**      Volume    Market Cap\n",
       "Date                                                                 \n",
       "2019-08-13  211.34  211.38  205.42   208.71  5946313205  2.239653e+10\n",
       "2019-08-12  216.06  216.14  210.95   211.29  5674315559  2.267042e+10\n",
       "2019-08-11  206.73  216.60  206.51   216.09  6440605605  2.318300e+10\n",
       "2019-08-10  210.53  213.73  203.79   206.73  6584748527  2.217611e+10\n",
       "2019-08-09  220.91  221.36  208.25   210.49  6964818795  2.257606e+10"
      ]
     },
     "execution_count": 2,
     "metadata": {},
     "output_type": "execute_result"
    }
   ],
   "source": [
    "### 데이터 로드\n",
    "data = pd.read_csv('dataset/ethereum_dataset.csv', index_col=0)\n",
    "data.head()"
   ]
  },
  {
   "cell_type": "code",
   "execution_count": 3,
   "metadata": {},
   "outputs": [],
   "source": [
    "## 정규화 함수\n",
    "def normalize_windows(data):\n",
    "    normalized_data = []\n",
    "\n",
    "    for window in data:\n",
    "        normalized_window = [((float(p) / float(window[0])) - 1) for p in window]\n",
    "        normalized_data.append(normalized_window)\n",
    "        \n",
    "    return np.array(normalized_data)"
   ]
  },
  {
   "cell_type": "code",
   "execution_count": 4,
   "metadata": {},
   "outputs": [],
   "source": [
    "### 데이터 전처리\n",
    "## price data\n",
    "high_prices = data['High'].values\n",
    "low_prices = data['Low'].values\n",
    "\n",
    "mid_prices = (high_prices + low_prices) / 2\n",
    "\n",
    "seq_len = 30\n",
    "sequence_length = seq_len + 1\n",
    "\n",
    "price = []\n",
    "for index in range(len(mid_prices) - sequence_length):\n",
    "    price.append(mid_prices[index: index + sequence_length])\n",
    "    \n",
    "norm_price = normalize_windows(price)"
   ]
  },
  {
   "cell_type": "code",
   "execution_count": 5,
   "metadata": {},
   "outputs": [],
   "source": [
    "## volume data\n",
    "volume_data = data['Volume'].values\n",
    "\n",
    "volume = []\n",
    "for index in range(len(volume_data) - sequence_length):\n",
    "    volume.append(volume_data[index: index + sequence_length])\n",
    "    \n",
    "norm_volume = normalize_windows(volume)"
   ]
  },
  {
   "cell_type": "code",
   "execution_count": 6,
   "metadata": {},
   "outputs": [],
   "source": [
    "def marge_data(price, volume):\n",
    "    marged_data = []\n",
    "    marge = []\n",
    "    \n",
    "    for p_index, v_index in zip(price, volume):\n",
    "        for i in range(len(p_index)):\n",
    "            marge.append(p_index[i])\n",
    "            marge.append(v_index[i])\n",
    "        \n",
    "        marge.pop()\n",
    "        marged_data.append(marge)\n",
    "        marge = []\n",
    "    \n",
    "    return np.array(marged_data)\n",
    "\n",
    "norm_result = marge_data(norm_price, norm_volume)"
   ]
  },
  {
   "cell_type": "code",
   "execution_count": 7,
   "metadata": {},
   "outputs": [
    {
     "data": {
      "text/plain": [
       "((1347, 60, 1), (90, 60, 1))"
      ]
     },
     "execution_count": 7,
     "metadata": {},
     "output_type": "execute_result"
    }
   ],
   "source": [
    "train_cut = -90 # 마지막 3달의 데이터를 test데이터로 한다\n",
    "        \n",
    "train = norm_result[:train_cut, :]\n",
    "np.random.shuffle(train)\n",
    "\n",
    "x_train = train[:, :-1]\n",
    "x_train = np.reshape(x_train, (x_train.shape[0], x_train.shape[1], 1))\n",
    "y_train = train[:, -1]\n",
    "\n",
    "x_test = norm_result[train_cut:, :-1]\n",
    "x_test = np.reshape(x_test, (x_test.shape[0], x_test.shape[1], 1))\n",
    "y_test = norm_result[train_cut:, -1]\n",
    "\n",
    "x_train.shape, x_test.shape"
   ]
  },
  {
   "cell_type": "code",
   "execution_count": 8,
   "metadata": {},
   "outputs": [],
   "source": [
    "### 모델 체크포인터 롤백\n",
    "MODEL_SAVE_FOLBER_PATH = './model/'\n",
    "if not os.path.exists(MODEL_SAVE_FOLBER_PATH):\n",
    "    os.mkdir(MODEL_SAVE_FOLBER_PATH)\n",
    "    \n",
    "model_path = MODEL_SAVE_FOLBER_PATH + '{epoch:02d}-{val_loss:.4f}.hdf5'\n",
    "\n",
    "# 체크포인트 생성 코드\n",
    "cb_checkpoint = ModelCheckpoint(filepath=model_path, monitor='val_loss',verbose=1, save_best_only=True, mode='auto')"
   ]
  },
  {
   "cell_type": "code",
   "execution_count": 9,
   "metadata": {},
   "outputs": [
    {
     "name": "stderr",
     "output_type": "stream",
     "text": [
      "WARNING: Logging before flag parsing goes to stderr.\n",
      "W0826 14:45:57.379871 23720 deprecation_wrapper.py:119] From D:\\_setup\\anaconda3\\envs\\py3.7\\lib\\site-packages\\keras\\backend\\tensorflow_backend.py:74: The name tf.get_default_graph is deprecated. Please use tf.compat.v1.get_default_graph instead.\n",
      "\n",
      "W0826 14:45:57.398342 23720 deprecation_wrapper.py:119] From D:\\_setup\\anaconda3\\envs\\py3.7\\lib\\site-packages\\keras\\backend\\tensorflow_backend.py:517: The name tf.placeholder is deprecated. Please use tf.compat.v1.placeholder instead.\n",
      "\n",
      "W0826 14:45:57.400846 23720 deprecation_wrapper.py:119] From D:\\_setup\\anaconda3\\envs\\py3.7\\lib\\site-packages\\keras\\backend\\tensorflow_backend.py:4138: The name tf.random_uniform is deprecated. Please use tf.random.uniform instead.\n",
      "\n",
      "W0826 14:45:58.189680 23720 deprecation_wrapper.py:119] From D:\\_setup\\anaconda3\\envs\\py3.7\\lib\\site-packages\\keras\\optimizers.py:790: The name tf.train.Optimizer is deprecated. Please use tf.compat.v1.train.Optimizer instead.\n",
      "\n"
     ]
    },
    {
     "name": "stdout",
     "output_type": "stream",
     "text": [
      "_________________________________________________________________\n",
      "Layer (type)                 Output Shape              Param #   \n",
      "=================================================================\n",
      "lstm_1 (LSTM)                (None, 60, 60)            14880     \n",
      "_________________________________________________________________\n",
      "lstm_2 (LSTM)                (None, 60, 60)            29040     \n",
      "_________________________________________________________________\n",
      "lstm_3 (LSTM)                (None, 60, 60)            29040     \n",
      "_________________________________________________________________\n",
      "lstm_4 (LSTM)                (None, 60, 60)            29040     \n",
      "_________________________________________________________________\n",
      "lstm_5 (LSTM)                (None, 60)                29040     \n",
      "_________________________________________________________________\n",
      "dense_1 (Dense)              (None, 1)                 61        \n",
      "=================================================================\n",
      "Total params: 131,101\n",
      "Trainable params: 131,101\n",
      "Non-trainable params: 0\n",
      "_________________________________________________________________\n"
     ]
    }
   ],
   "source": [
    "### 모델 설계\n",
    "model = Sequential()\n",
    "\n",
    "for i in range (4):\n",
    "    model.add(LSTM(60, return_sequences=True, input_shape=(60, 1)))   \n",
    "\n",
    "model.add(LSTM(60, return_sequences=False))\n",
    "\n",
    "model.add(Dense(1, activation='linear'))\n",
    "\n",
    "model.compile(loss='mse', optimizer='rmsprop')\n",
    "\n",
    "model.summary()"
   ]
  },
  {
   "cell_type": "code",
   "execution_count": 10,
   "metadata": {},
   "outputs": [
    {
     "name": "stderr",
     "output_type": "stream",
     "text": [
      "W0826 14:46:05.844889 23720 deprecation.py:323] From D:\\_setup\\anaconda3\\envs\\py3.7\\lib\\site-packages\\tensorflow\\python\\ops\\math_grad.py:1250: add_dispatch_support.<locals>.wrapper (from tensorflow.python.ops.array_ops) is deprecated and will be removed in a future version.\n",
      "Instructions for updating:\n",
      "Use tf.where in 2.0, which has the same broadcast rule as np.where\n",
      "W0826 14:46:07.979967 23720 deprecation_wrapper.py:119] From D:\\_setup\\anaconda3\\envs\\py3.7\\lib\\site-packages\\keras\\backend\\tensorflow_backend.py:986: The name tf.assign_add is deprecated. Please use tf.compat.v1.assign_add instead.\n",
      "\n",
      "W0826 14:46:07.985449 23720 deprecation_wrapper.py:119] From D:\\_setup\\anaconda3\\envs\\py3.7\\lib\\site-packages\\keras\\backend\\tensorflow_backend.py:973: The name tf.assign is deprecated. Please use tf.compat.v1.assign instead.\n",
      "\n"
     ]
    },
    {
     "name": "stdout",
     "output_type": "stream",
     "text": [
      "Train on 1347 samples, validate on 90 samples\n",
      "Epoch 1/30\n",
      "1347/1347 [==============================] - 26s 19ms/step - loss: 0.0921 - val_loss: 0.1873\n",
      "\n",
      "Epoch 00001: val_loss improved from inf to 0.18732, saving model to ./model/01-0.1873.hdf5\n",
      "Epoch 2/30\n",
      "1347/1347 [==============================] - 21s 16ms/step - loss: 0.0756 - val_loss: 0.1991\n",
      "\n",
      "Epoch 00002: val_loss did not improve from 0.18732\n",
      "Epoch 3/30\n",
      "1347/1347 [==============================] - 22s 17ms/step - loss: 0.0711 - val_loss: 0.1903\n",
      "\n",
      "Epoch 00003: val_loss did not improve from 0.18732\n",
      "Epoch 4/30\n",
      "1347/1347 [==============================] - 21s 16ms/step - loss: 0.0687 - val_loss: 0.1906\n",
      "\n",
      "Epoch 00004: val_loss did not improve from 0.18732\n",
      "Epoch 5/30\n",
      "1347/1347 [==============================] - 21s 16ms/step - loss: 0.0641 - val_loss: 0.1832\n",
      "\n",
      "Epoch 00005: val_loss improved from 0.18732 to 0.18323, saving model to ./model/05-0.1832.hdf5\n",
      "Epoch 6/30\n",
      "1347/1347 [==============================] - 22s 16ms/step - loss: 0.0603 - val_loss: 0.1996\n",
      "\n",
      "Epoch 00006: val_loss did not improve from 0.18323\n",
      "Epoch 7/30\n",
      "1347/1347 [==============================] - 21s 16ms/step - loss: 0.0545 - val_loss: 0.2805\n",
      "\n",
      "Epoch 00007: val_loss did not improve from 0.18323\n",
      "Epoch 8/30\n",
      "1347/1347 [==============================] - 23s 17ms/step - loss: 0.0517 - val_loss: 0.2035\n",
      "\n",
      "Epoch 00008: val_loss did not improve from 0.18323\n",
      "Epoch 9/30\n",
      "1347/1347 [==============================] - 23s 17ms/step - loss: 0.0490 - val_loss: 0.2651\n",
      "\n",
      "Epoch 00009: val_loss did not improve from 0.18323\n",
      "Epoch 10/30\n",
      "1347/1347 [==============================] - 21s 15ms/step - loss: 0.0466 - val_loss: 0.1442\n",
      "\n",
      "Epoch 00010: val_loss improved from 0.18323 to 0.14416, saving model to ./model/10-0.1442.hdf5\n",
      "Epoch 11/30\n",
      "1347/1347 [==============================] - 21s 15ms/step - loss: 0.0449 - val_loss: 0.1894\n",
      "\n",
      "Epoch 00011: val_loss did not improve from 0.14416\n",
      "Epoch 12/30\n",
      "1347/1347 [==============================] - 21s 15ms/step - loss: 0.0426 - val_loss: 0.2036\n",
      "\n",
      "Epoch 00012: val_loss did not improve from 0.14416\n",
      "Epoch 13/30\n",
      "1347/1347 [==============================] - 20s 15ms/step - loss: 0.0434 - val_loss: 0.2028\n",
      "\n",
      "Epoch 00013: val_loss did not improve from 0.14416\n",
      "Epoch 14/30\n",
      "1347/1347 [==============================] - 24s 18ms/step - loss: 0.0410 - val_loss: 0.2190\n",
      "\n",
      "Epoch 00014: val_loss did not improve from 0.14416\n",
      "Epoch 15/30\n",
      "1347/1347 [==============================] - 21s 16ms/step - loss: 0.0409 - val_loss: 0.2358\n",
      "\n",
      "Epoch 00015: val_loss did not improve from 0.14416\n",
      "Epoch 16/30\n",
      "1347/1347 [==============================] - 20s 15ms/step - loss: 0.0401 - val_loss: 0.2652\n",
      "\n",
      "Epoch 00016: val_loss did not improve from 0.14416\n",
      "Epoch 17/30\n",
      "1347/1347 [==============================] - 21s 15ms/step - loss: 0.0372 - val_loss: 0.2284\n",
      "\n",
      "Epoch 00017: val_loss did not improve from 0.14416\n",
      "Epoch 18/30\n",
      "1347/1347 [==============================] - 21s 15ms/step - loss: 0.0371 - val_loss: 0.2335\n",
      "\n",
      "Epoch 00018: val_loss did not improve from 0.14416\n",
      "Epoch 19/30\n",
      "1347/1347 [==============================] - 21s 15ms/step - loss: 0.0357 - val_loss: 0.1803\n",
      "\n",
      "Epoch 00019: val_loss did not improve from 0.14416\n",
      "Epoch 20/30\n",
      "1347/1347 [==============================] - 20s 15ms/step - loss: 0.0351 - val_loss: 0.2598\n",
      "\n",
      "Epoch 00020: val_loss did not improve from 0.14416\n",
      "Epoch 21/30\n",
      "1347/1347 [==============================] - 20s 15ms/step - loss: 0.0335 - val_loss: 0.2440\n",
      "\n",
      "Epoch 00021: val_loss did not improve from 0.14416\n",
      "Epoch 22/30\n",
      "1347/1347 [==============================] - 21s 16ms/step - loss: 0.0313 - val_loss: 0.1953\n",
      "\n",
      "Epoch 00022: val_loss did not improve from 0.14416\n",
      "Epoch 23/30\n",
      "1347/1347 [==============================] - 21s 16ms/step - loss: 0.0320 - val_loss: 0.2100\n",
      "\n",
      "Epoch 00023: val_loss did not improve from 0.14416\n",
      "Epoch 24/30\n",
      "1347/1347 [==============================] - 21s 15ms/step - loss: 0.0313 - val_loss: 0.2231\n",
      "\n",
      "Epoch 00024: val_loss did not improve from 0.14416\n",
      "Epoch 25/30\n",
      "1347/1347 [==============================] - 22s 16ms/step - loss: 0.0285 - val_loss: 0.2036\n",
      "\n",
      "Epoch 00025: val_loss did not improve from 0.14416\n",
      "Epoch 26/30\n",
      "1347/1347 [==============================] - 22s 16ms/step - loss: 0.0271 - val_loss: 0.2204\n",
      "\n",
      "Epoch 00026: val_loss did not improve from 0.14416\n",
      "Epoch 27/30\n",
      "1347/1347 [==============================] - 22s 16ms/step - loss: 0.0278 - val_loss: 0.2506\n",
      "\n",
      "Epoch 00027: val_loss did not improve from 0.14416\n",
      "Epoch 28/30\n",
      "1347/1347 [==============================] - 21s 16ms/step - loss: 0.0261 - val_loss: 0.3075\n",
      "\n",
      "Epoch 00028: val_loss did not improve from 0.14416\n",
      "Epoch 29/30\n",
      "1347/1347 [==============================] - 21s 16ms/step - loss: 0.0249 - val_loss: 0.2360\n",
      "\n",
      "Epoch 00029: val_loss did not improve from 0.14416\n",
      "Epoch 30/30\n",
      "1347/1347 [==============================] - 21s 16ms/step - loss: 0.0232 - val_loss: 0.2027\n",
      "\n",
      "Epoch 00030: val_loss did not improve from 0.14416\n"
     ]
    },
    {
     "data": {
      "text/plain": [
       "<keras.callbacks.History at 0x151ffbc5cc0>"
      ]
     },
     "execution_count": 10,
     "metadata": {},
     "output_type": "execute_result"
    }
   ],
   "source": [
    "### 모델 학습\n",
    "start_time = datetime.datetime.now().strftime('%Y_%m_%d_%H_%M_%S')\n",
    "\n",
    "model.fit(x_train, y_train, validation_data=(x_test, y_test), epochs=30, batch_size=30, callbacks=[cb_checkpoint])"
   ]
  },
  {
   "cell_type": "code",
   "execution_count": null,
   "metadata": {},
   "outputs": [],
   "source": [
    "### 학습 모델 로드\n",
    "# model = load_model('ether_prediction_model_achi_1.h5')\n",
    "model = load_model('ether_prediction_model_achi_2.h5')\n",
    "# model = load_model('ether_prediction_model_achi_3.h5')"
   ]
  },
  {
   "cell_type": "code",
   "execution_count": 11,
   "metadata": {},
   "outputs": [],
   "source": [
    "## 모델 저장\n",
    "model. save('ether_prediction_model_achi_2.h5')"
   ]
  },
  {
   "cell_type": "code",
   "execution_count": 12,
   "metadata": {},
   "outputs": [
    {
     "data": {
      "image/png": "[encoded data removed]",
      "text/plain": [
       "<Figure size 1440x720 with 1 Axes>"
      ]
     },
     "metadata": {},
     "output_type": "display_data"
    }
   ],
   "source": [
    "pred = model.predict(x_test)\n",
    "\n",
    "fig = plt.figure(facecolor='white', figsize=(20, 10))\n",
    "ax = fig.add_subplot(111)\n",
    "ax.plot(y_test, label='True')\n",
    "ax.plot(pred, label='Prediction')\n",
    "ax.legend()\n",
    "ax.grid(linestyle='-', linewidth=1,)\n",
    "plt.ylim([-2, 2])\n",
    "plt.show()"
   ]
  },
  {
   "cell_type": "code",
   "execution_count": null,
   "metadata": {},
   "outputs": [],
   "source": []
  }
 ],
 "metadata": {
  "kernelspec": {
   "display_name": "Python 3",
   "language": "python",
   "name": "python3"
  },
  "language_info": {
   "codemirror_mode": {
    "name": "ipython",
    "version": 3
   },
   "file_extension": ".py",
   "mimetype": "text/x-python",
   "name": "python",
   "nbconvert_exporter": "python",
   "pygments_lexer": "ipython3",
   "version": "3.7.3"
  }
 },
 "nbformat": 4,
 "nbformat_minor": 2
}
